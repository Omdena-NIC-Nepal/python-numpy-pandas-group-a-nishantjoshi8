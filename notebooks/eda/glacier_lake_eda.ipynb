{
 "cells": [
  {
   "cell_type": "code",
   "execution_count": 1,
   "metadata": {},
   "outputs": [],
   "source": [
    "### EDA for combined_data.geojson\n",
    "\n",
    "import pandas as pd\n",
    "import geopandas as gpd\n",
    "import matplotlib.pyplot as plt\n",
    "import seaborn as sns\n",
    "import numpy as np\n"
   ]
  },
  {
   "cell_type": "code",
   "execution_count": null,
   "metadata": {},
   "outputs": [],
   "source": [
    "\n",
    "# Load the dataset\n",
    "gdf = gpd.read_file('../../data/processed/combined_data.geojson')\n",
    "\n",
    "# Basic info\n",
    "print(\"\\n--- Basic Information ---\")\n",
    "print(gdf.info())\n",
    "\n",
    "# Preview data\n",
    "print(\"\\n--- Preview Data ---\")\n",
    "print(gdf.head())\n",
    "\n"
   ]
  },
  {
   "cell_type": "code",
   "execution_count": null,
   "metadata": {},
   "outputs": [],
   "source": [
    "# Shape\n",
    "print(f\"\\nDataset contains {gdf.shape[0]} rows and {gdf.shape[1]} columns.\")\n",
    "\n",
    "# Columns\n",
    "print(\"\\n--- Column Names ---\")\n",
    "print(list(gdf.columns))\n",
    "\n",
    "# Missing values\n",
    "print(\"\\n--- Missing Values ---\")\n",
    "print(gdf.isnull().sum())\n",
    "\n",
    "# Data types\n",
    "print(\"\\n--- Data Types ---\")\n",
    "print(gdf.dtypes)\n",
    "\n"
   ]
  },
  {
   "cell_type": "code",
   "execution_count": null,
   "metadata": {},
   "outputs": [],
   "source": [
    "# Summary statistics (numerical)\n",
    "print(\"\\n--- Summary Statistics (Numerical Columns) ---\")\n",
    "print(gdf.describe())\n",
    "\n"
   ]
  },
  {
   "cell_type": "code",
   "execution_count": null,
   "metadata": {},
   "outputs": [],
   "source": [
    "# Summary statistics (categorical)\n",
    "categorical_cols = gdf.select_dtypes(include=['object']).columns\n",
    "print(\"\\n--- Summary Statistics (Categorical Columns) ---\")\n",
    "print(gdf[categorical_cols].describe())\n",
    "\n"
   ]
  },
  {
   "cell_type": "code",
   "execution_count": null,
   "metadata": {},
   "outputs": [],
   "source": [
    "# Histograms for numerical features\n",
    "numerical_cols = gdf.select_dtypes(include=[np.number]).columns\n",
    "print(\"\\n--- Plotting Histograms ---\")\n",
    "for col in numerical_cols:\n",
    "    plt.figure(figsize=(8, 4))\n",
    "    sns.histplot(gdf[col], kde=True, bins=30)\n",
    "    plt.title(f'Distribution of {col}')\n",
    "    plt.xlabel(col)\n",
    "    plt.ylabel('Frequency')\n",
    "    plt.tight_layout()\n",
    "    plt.show()\n",
    "\n"
   ]
  },
  {
   "cell_type": "code",
   "execution_count": null,
   "metadata": {},
   "outputs": [],
   "source": [
    "# Boxplots for numerical features\n",
    "print(\"\\n--- Plotting Boxplots ---\")\n",
    "for col in numerical_cols:\n",
    "    plt.figure(figsize=(8, 4))\n",
    "    sns.boxplot(x=gdf[col])\n",
    "    plt.title(f'Boxplot of {col}')\n",
    "    plt.tight_layout()\n",
    "    plt.show()\n",
    "\n"
   ]
  },
  {
   "cell_type": "code",
   "execution_count": null,
   "metadata": {},
   "outputs": [],
   "source": [
    "# Correlation heatmap\n",
    "print(\"\\n--- Correlation Heatmap ---\")\n",
    "plt.figure(figsize=(12, 10))\n",
    "corr = gdf[numerical_cols].corr()\n",
    "sns.heatmap(corr, annot=True, cmap='coolwarm', fmt='.2f')\n",
    "plt.title('Correlation Matrix')\n",
    "plt.show()\n",
    "\n"
   ]
  },
  {
   "cell_type": "code",
   "execution_count": null,
   "metadata": {},
   "outputs": [],
   "source": [
    "# Unique values in categorical columns\n",
    "print(\"\\n--- Unique Values in Categorical Columns ---\")\n",
    "for col in categorical_cols:\n",
    "    print(f\"{col}: {gdf[col].nunique()} unique values\")\n",
    "    print(gdf[col].unique()[:10])  # showing only first 10 unique values\n",
    "\n"
   ]
  },
  {
   "cell_type": "code",
   "execution_count": null,
   "metadata": {},
   "outputs": [],
   "source": [
    "# Plotting the GeoData\n",
    "print(\"\\n--- Plotting Geospatial Data ---\")\n",
    "fig, ax = plt.subplots(figsize=(10, 10))\n",
    "gdf.plot(ax=ax, edgecolor='black', column=numerical_cols[0] if len(numerical_cols) > 0 else None, cmap='viridis', legend=True)\n",
    "plt.title('Geospatial Plot of Data')\n",
    "plt.show()\n",
    "\n"
   ]
  },
  {
   "cell_type": "code",
   "execution_count": null,
   "metadata": {},
   "outputs": [],
   "source": [
    "# Spatial basic stats\n",
    "print(\"\\n--- CRS (Coordinate Reference System) ---\")\n",
    "print(gdf.crs)\n",
    "\n",
    "print(\"\\n--- Bounds ---\")\n",
    "print(gdf.bounds)\n",
    "\n",
    "print(\"\\n--- Geometry Types ---\")\n",
    "print(gdf.geom_type.value_counts())\n",
    "\n",
    "### Done!\n"
   ]
  }
 ],
 "metadata": {
  "kernelspec": {
   "display_name": "venv",
   "language": "python",
   "name": "python3"
  },
  "language_info": {
   "codemirror_mode": {
    "name": "ipython",
    "version": 3
   },
   "file_extension": ".py",
   "mimetype": "text/x-python",
   "name": "python",
   "nbconvert_exporter": "python",
   "pygments_lexer": "ipython3",
   "version": "3.12.3"
  }
 },
 "nbformat": 4,
 "nbformat_minor": 2
}
